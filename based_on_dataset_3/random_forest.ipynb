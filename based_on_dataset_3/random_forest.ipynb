{
 "cells": [
  {
   "cell_type": "code",
   "execution_count": 29,
   "id": "b819fd9d-4560-4a25-bf4a-3b8f22ce6181",
   "metadata": {},
   "outputs": [],
   "source": [
    "import pandas as pd\n",
    "from sklearn.ensemble import RandomForestClassifier\n",
    "from sklearn.metrics import accuracy_score, classification_report\n",
    "from sklearn.preprocessing import LabelEncoder"
   ]
  },
  {
   "cell_type": "code",
   "execution_count": 37,
   "id": "67ee31f0-cac4-4c46-ad61-6afd26c50191",
   "metadata": {},
   "outputs": [],
   "source": [
    "#load dataset for train and test\n",
    "train_path = '/home/mubasshir/Desktop/research/Our_Work/based_on_dataset_3/dataset/Train_Beneficiarydata-1542865627584.csv'\n",
    "test_path = '/home/mubasshir/Desktop/research/Our_Work/based_on_dataset_3/dataset/Test_Beneficiarydata-1542969243754.csv'\n",
    "\n",
    "train_df = pd.read_csv(train_path)\n",
    "test_df = pd.read_csv(test_path)"
   ]
  },
  {
   "cell_type": "code",
   "execution_count": 39,
   "id": "ffb80152-6b70-4216-8a66-bd01e7bf359d",
   "metadata": {},
   "outputs": [
    {
     "name": "stdout",
     "output_type": "stream",
     "text": [
      "Train data shape :  (138556, 25)\n",
      "Train data shape :  (63968, 25)\n"
     ]
    }
   ],
   "source": [
    "print(\"Train data shape : \",train_df.shape)\n",
    "print(\"Train data shape : \",test_df.shape)"
   ]
  },
  {
   "cell_type": "code",
   "execution_count": 43,
   "id": "53f90e61-3457-44c5-901a-1b1f9fd47213",
   "metadata": {},
   "outputs": [
    {
     "name": "stdout",
     "output_type": "stream",
     "text": [
      "Index(['BeneID', 'DOB', 'DOD', 'Gender', 'Race', 'RenalDiseaseIndicator',\n",
      "       'State', 'County', 'NoOfMonths_PartACov', 'NoOfMonths_PartBCov',\n",
      "       'ChronicCond_Alzheimer', 'ChronicCond_Heartfailure',\n",
      "       'ChronicCond_KidneyDisease', 'ChronicCond_Cancer',\n",
      "       'ChronicCond_ObstrPulmonary', 'ChronicCond_Depression',\n",
      "       'ChronicCond_Diabetes', 'ChronicCond_IschemicHeart',\n",
      "       'ChronicCond_Osteoporasis', 'ChronicCond_rheumatoidarthritis',\n",
      "       'ChronicCond_stroke', 'IPAnnualReimbursementAmt',\n",
      "       'IPAnnualDeductibleAmt', 'OPAnnualReimbursementAmt',\n",
      "       'OPAnnualDeductibleAmt'],\n",
      "      dtype='object')\n"
     ]
    }
   ],
   "source": [
    "print(train_df.columns)"
   ]
  },
  {
   "cell_type": "code",
   "execution_count": null,
   "id": "d2161b37-e3bd-4360-a156-2e03439e289f",
   "metadata": {},
   "outputs": [],
   "source": []
  }
 ],
 "metadata": {
  "kernelspec": {
   "display_name": "Python 3 (ipykernel)",
   "language": "python",
   "name": "python3"
  },
  "language_info": {
   "codemirror_mode": {
    "name": "ipython",
    "version": 3
   },
   "file_extension": ".py",
   "mimetype": "text/x-python",
   "name": "python",
   "nbconvert_exporter": "python",
   "pygments_lexer": "ipython3",
   "version": "3.10.12"
  }
 },
 "nbformat": 4,
 "nbformat_minor": 5
}
