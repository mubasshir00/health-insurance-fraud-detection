{
 "cells": [
  {
   "cell_type": "code",
   "execution_count": null,
   "id": "c6fed5f6-3dcd-4298-9c0f-6b2fcfedfe95",
   "metadata": {},
   "outputs": [],
   "source": [
    "import pandas as pd\n",
    "import numpy as np"
   ]
  },
  {
   "cell_type": "code",
   "execution_count": null,
   "id": "f27c6a30-75b1-4fc9-82b5-552ed6be71cd",
   "metadata": {},
   "outputs": [],
   "source": [
    "from sklearn.ensemble import RandomForestClassifier #to detect fraud\n",
    "from sklearn.model_selection import train_test_split # Splits the data into training and validation sets.\n",
    "from sklearn.preprocessing import LabelEncoder #encodes categorical data into numeric form\n",
    "from sklearn.impute import SimpleImputer #Fills in missing values (NaNs) in the dataset.\n",
    "from sklearn.metrics import classification_report, confusion_matrix #"
   ]
  },
  {
   "cell_type": "code",
   "execution_count": null,
   "id": "2056bcf8-158b-4227-b182-fc9f60fe8d14",
   "metadata": {},
   "outputs": [],
   "source": [
    "#load train and test dataset\n",
    "train_df = pd.read_csv(\"/home/mubasshir/Desktop/research/Our_Work/based_on_dataset_3/dataset/Train_Beneficiarydata-1542865627584.csv\")\n",
    "test_df = pd.read_csv(\"/home/mubasshir/Desktop/research/Our_Work/based_on_dataset_3/dataset/Test_Beneficiarydata-1542969243754.csv\")\n"
   ]
  },
  {
   "cell_type": "code",
   "execution_count": null,
   "id": "a76d2d07-51d0-4d66-942a-bcbf95236ca4",
   "metadata": {},
   "outputs": [],
   "source": [
    "# Simulate a binary 'Fraud' label for training\n",
    "np.random.seed(42)\n",
    "train_df['Fraud'] = np.random.randint(0, 2, size=len(train_df))\n",
    "# print(train_df)"
   ]
  },
  {
   "cell_type": "code",
   "execution_count": null,
   "id": "1e053c9a-4116-4b83-b35f-6da1d524fa7f",
   "metadata": {},
   "outputs": [],
   "source": [
    "drop_cols = [\"BeneID\", \"DOB\", \"DOD\", \"Fraud\"]\n",
    "X = train_df.drop(columns = drop_cols) # (input variables)\n",
    "Y = train_df[\"Fraud\"] # Target vector (labels, i.e., 0 for not fraud, 1 for fraud).\n"
   ]
  },
  {
   "cell_type": "code",
   "execution_count": null,
   "id": "884dd3cf-a135-4caf-a810-1b3414fc78f4",
   "metadata": {},
   "outputs": [],
   "source": [
    "le = LabelEncoder()\n",
    "X[\"RenalDiseaseIndicator\"] = le.fit_transform(X[\"RenalDiseaseIndicator\"])\n"
   ]
  },
  {
   "cell_type": "code",
   "execution_count": null,
   "id": "34e3ebc8-ef42-412f-a3d7-10a2776f35eb",
   "metadata": {},
   "outputs": [],
   "source": [
    "imputer = SimpleImputer(strategy=\"most_frequent\")\n",
    "X = imputer.fit_transform(X) #Fills missing values with the most frequent value in each column."
   ]
  },
  {
   "cell_type": "code",
   "execution_count": null,
   "id": "4b1c45d5-558d-4398-a767-463a2c47ca3b",
   "metadata": {},
   "outputs": [],
   "source": [
    "X_train, X_val, y_train, y_val = train_test_split(X, Y, test_size=0.2, random_state=42)"
   ]
  },
  {
   "cell_type": "code",
   "execution_count": null,
   "id": "8e9b9d93-3a0e-43e7-9208-194dc4fd3263",
   "metadata": {},
   "outputs": [],
   "source": [
    "rf_model = RandomForestClassifier(n_estimators=100, random_state=42) #Initializes the Random Forest with 100 trees."
   ]
  },
  {
   "cell_type": "code",
   "execution_count": null,
   "id": "dd733a9f-d3bb-460a-a2ca-b4d70828dd71",
   "metadata": {},
   "outputs": [],
   "source": [
    "rf_model.fit(X_train, y_train)"
   ]
  },
  {
   "cell_type": "code",
   "execution_count": null,
   "id": "51f29cb4-ec56-48f5-8e0f-4afa7a1083db",
   "metadata": {},
   "outputs": [],
   "source": [
    "y_pred = rf_model.predict(X_val)\n",
    "print(\"Confusion Matrix:\\n\", confusion_matrix(y_val, y_pred))\n",
    "print(\"\\nClassification Report:\\n\", classification_report(y_val, y_pred))"
   ]
  },
  {
   "cell_type": "code",
   "execution_count": null,
   "id": "e801521b-9535-4221-9d66-f524bcdc5f70",
   "metadata": {},
   "outputs": [],
   "source": [
    "X_test = test_df.drop(columns=[\"BeneID\", \"DOB\", \"DOD\"])"
   ]
  },
  {
   "cell_type": "code",
   "execution_count": null,
   "id": "89209dbf-e82b-4d7b-a2c4-bf190dc86c7f",
   "metadata": {},
   "outputs": [],
   "source": [
    "X_test[\"RenalDiseaseIndicator\"] = le.transform(X_test[\"RenalDiseaseIndicator\"])"
   ]
  },
  {
   "cell_type": "code",
   "execution_count": null,
   "id": "f01830ea-172d-43b4-b784-5b24416cfcc7",
   "metadata": {},
   "outputs": [],
   "source": [
    "X_test = imputer.transform(X_test)"
   ]
  },
  {
   "cell_type": "code",
   "execution_count": null,
   "id": "4a71ad1a-de27-4355-839b-48bd3ced4c2a",
   "metadata": {},
   "outputs": [],
   "source": [
    "test_predictions = rf_model.predict(X_test)"
   ]
  },
  {
   "cell_type": "code",
   "execution_count": null,
   "id": "ecfba5ef-1b75-46bf-991a-4aca8c13c70d",
   "metadata": {},
   "outputs": [],
   "source": [
    "# Attach predictions to test data\n",
    "test_df[\"PredictedFraud\"] = test_predictions\n",
    "\n",
    "# Show summary and sample predictions\n",
    "fraud_summary = test_df[\"PredictedFraud\"].value_counts()\n",
    "print(\"Fraud Prediction Summary:\\n\", fraud_summary)\n",
    "\n",
    "# Show first 10 predictions\n",
    "print(\"\\nSample Predictions:\")\n",
    "print(test_df[[\"BeneID\", \"PredictedFraud\"]].head(10))\n"
   ]
  },
  {
   "cell_type": "code",
   "execution_count": null,
   "id": "dd6fdfd0-0a7d-47c4-98dd-f6765b92ac89",
   "metadata": {},
   "outputs": [],
   "source": []
  },
  {
   "cell_type": "code",
   "execution_count": null,
   "id": "2f45b604-bb20-4a3c-934a-585b50f79736",
   "metadata": {},
   "outputs": [],
   "source": []
  },
  {
   "cell_type": "code",
   "execution_count": null,
   "id": "3afa451c-2ed2-4ed8-9ed2-274018979ae8",
   "metadata": {},
   "outputs": [],
   "source": []
  },
  {
   "cell_type": "code",
   "execution_count": null,
   "id": "d683470b-3e95-4867-85f5-f5c806585d3e",
   "metadata": {},
   "outputs": [],
   "source": []
  }
 ],
 "metadata": {
  "kernelspec": {
   "display_name": "Python 3 (ipykernel)",
   "language": "python",
   "name": "python3"
  },
  "language_info": {
   "codemirror_mode": {
    "name": "ipython",
    "version": 3
   },
   "file_extension": ".py",
   "mimetype": "text/x-python",
   "name": "python",
   "nbconvert_exporter": "python",
   "pygments_lexer": "ipython3",
   "version": "3.10.12"
  }
 },
 "nbformat": 4,
 "nbformat_minor": 5
}
