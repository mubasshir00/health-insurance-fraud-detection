{
 "cells": [
  {
   "cell_type": "code",
   "execution_count": 2,
   "id": "f5f18fc9-0598-49a5-b98d-56029dc246eb",
   "metadata": {},
   "outputs": [
    {
     "name": "stdout",
     "output_type": "stream",
     "text": [
      "      BeneID         DOB  DOD  Gender  Race RenalDiseaseIndicator  State  \\\n",
      "0  BENE11001  1943-01-01  NaN       1     1                     0     39   \n",
      "1  BENE11002  1936-09-01  NaN       2     1                     0     39   \n",
      "2  BENE11003  1936-08-01  NaN       1     1                     0     52   \n",
      "3  BENE11004  1922-07-01  NaN       1     1                     0     39   \n",
      "4  BENE11005  1935-09-01  NaN       1     1                     0     24   \n",
      "\n",
      "   County  NoOfMonths_PartACov  NoOfMonths_PartBCov  ...  \\\n",
      "0     230                   12                   12  ...   \n",
      "1     280                   12                   12  ...   \n",
      "2     590                   12                   12  ...   \n",
      "3     270                   12                   12  ...   \n",
      "4     680                   12                   12  ...   \n",
      "\n",
      "   ChronicCond_Depression  ChronicCond_Diabetes  ChronicCond_IschemicHeart  \\\n",
      "0                       1                     1                          1   \n",
      "1                       2                     2                          2   \n",
      "2                       2                     2                          1   \n",
      "3                       2                     1                          1   \n",
      "4                       2                     1                          2   \n",
      "\n",
      "   ChronicCond_Osteoporasis  ChronicCond_rheumatoidarthritis  \\\n",
      "0                         2                                1   \n",
      "1                         2                                2   \n",
      "2                         2                                2   \n",
      "3                         1                                1   \n",
      "4                         2                                2   \n",
      "\n",
      "   ChronicCond_stroke  IPAnnualReimbursementAmt  IPAnnualDeductibleAmt  \\\n",
      "0                   1                     36000                   3204   \n",
      "1                   2                         0                      0   \n",
      "2                   2                         0                      0   \n",
      "3                   2                         0                      0   \n",
      "4                   2                         0                      0   \n",
      "\n",
      "   OPAnnualReimbursementAmt  OPAnnualDeductibleAmt  \n",
      "0                        60                     70  \n",
      "1                        30                     50  \n",
      "2                        90                     40  \n",
      "3                      1810                    760  \n",
      "4                      1790                   1200  \n",
      "\n",
      "[5 rows x 25 columns]\n"
     ]
    }
   ],
   "source": [
    "import numpy as np \n",
    "import pandas as pd \n",
    "import os\n",
    "\n",
    "df_test = pd.read_csv('dataset/Test-1542969243754.csv')\n",
    "\n",
    "df_test_bd = pd.read_csv('dataset/Test_Beneficiarydata-1542969243754.csv')\n",
    "df_train_bd = pd.read_csv('dataset/Train_Beneficiarydata-1542865627584.csv')\n",
    "\n",
    "# EDA on Beneficiary Data\n",
    "df = df_train_bd.copy()\n",
    "\n",
    "print(df.head())"
   ]
  },
  {
   "cell_type": "code",
   "execution_count": null,
   "id": "4fb798dc-f9f9-4f62-9247-72866464a136",
   "metadata": {},
   "outputs": [],
   "source": []
  }
 ],
 "metadata": {
  "kernelspec": {
   "display_name": "Python 3 (ipykernel)",
   "language": "python",
   "name": "python3"
  },
  "language_info": {
   "codemirror_mode": {
    "name": "ipython",
    "version": 3
   },
   "file_extension": ".py",
   "mimetype": "text/x-python",
   "name": "python",
   "nbconvert_exporter": "python",
   "pygments_lexer": "ipython3",
   "version": "3.10.12"
  }
 },
 "nbformat": 4,
 "nbformat_minor": 5
}
