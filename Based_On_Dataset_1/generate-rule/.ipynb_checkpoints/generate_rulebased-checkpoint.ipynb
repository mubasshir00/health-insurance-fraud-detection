{
 "cells": [
  {
   "cell_type": "code",
   "execution_count": 27,
   "id": "246a3802-68ce-4e59-b09f-9b4d6b5bc44f",
   "metadata": {},
   "outputs": [],
   "source": [
    "import pandas as pd\n",
    "import numpy as np\n",
    "from sklearn.metrics import precision_score, recall_score  # ✅ THIS LINE"
   ]
  },
  {
   "cell_type": "code",
   "execution_count": 11,
   "id": "0986f065-ad88-4d91-9890-d9f862684974",
   "metadata": {},
   "outputs": [],
   "source": [
    "df = pd.read_csv('/home/mubasshir/Desktop/research/Our_Work/Based_On_Dataset_1/dataset/medical_aid_claims.csv')"
   ]
  },
  {
   "cell_type": "code",
   "execution_count": 12,
   "id": "47272912-5ae7-452e-831e-8e6fc1b215bc",
   "metadata": {},
   "outputs": [],
   "source": [
    "# Split fraud and legitimate cases\n",
    "fraud_df = df[df[\"label\"] == 1]\n",
    "legit_df = df[df[\"label\"] == 0]"
   ]
  },
  {
   "cell_type": "code",
   "execution_count": 13,
   "id": "03176a42-4a14-4960-9ac3-332fb1a18dac",
   "metadata": {},
   "outputs": [],
   "source": [
    "# Identify numeric columns for threshold analysis\n",
    "numeric_cols = [\"Fee Charged\", \"membership_period\", \"number_of_claims\", \"number_of_dependants\"]"
   ]
  },
  {
   "cell_type": "code",
   "execution_count": 14,
   "id": "0dfeb24a-824f-408a-9d8b-f8b0b3443b9d",
   "metadata": {},
   "outputs": [],
   "source": [
    "# Compare mean/std to flag suspicious ranges\n",
    "rule_candidates = []"
   ]
  },
  {
   "cell_type": "code",
   "execution_count": 15,
   "id": "4470f177-c492-4317-ab30-75f456332623",
   "metadata": {},
   "outputs": [],
   "source": [
    "for col in numeric_cols:\n",
    "    fraud_mean = fraud_df[col].mean()\n",
    "    legit_mean = legit_df[col].mean()\n",
    "    fraud_std = fraud_df[col].std()\n",
    "    if fraud_mean > legit_mean:\n",
    "        threshold = legit_df[col].quantile(0.9)\n",
    "        rule_candidates.append((col, \">\", threshold))\n",
    "    elif fraud_mean < legit_mean:\n",
    "        threshold = legit_df[col].quantile(0.1)\n",
    "        rule_candidates.append((col, \"<\", threshold))"
   ]
  },
  {
   "cell_type": "code",
   "execution_count": 17,
   "id": "b55c1d11-4856-4051-a4de-6b0ed3886ceb",
   "metadata": {},
   "outputs": [],
   "source": [
    "def evaluate_rule(df, col, op, threshold):\n",
    "    if op == \">\":\n",
    "        predictions = (df[col] > threshold).astype(int)\n",
    "    else:\n",
    "        predictions = (df[col] < threshold).astype(int)\n",
    "    precision = precision_score(df[\"label\"], predictions, zero_division=0)\n",
    "    recall = recall_score(df[\"label\"], predictions, zero_division=0)\n",
    "    return precision, recall"
   ]
  },
  {
   "cell_type": "code",
   "execution_count": 25,
   "id": "ca53550c-2b92-4b0e-b264-71ea2ed0c324",
   "metadata": {},
   "outputs": [
    {
     "name": "stdout",
     "output_type": "stream",
     "text": [
      "[('Fee Charged', '>', 45109.0, 0.2131837307152875, 0.11022480058013052), ('membership_period', '<', 999.0, 0.21508379888268156, 0.1116751269035533)]\n"
     ]
    }
   ],
   "source": [
    "accepted_rules = []\n",
    "min_precision = 0.2\n",
    "min_recall = 0.05\n",
    "\n",
    "for col, op, threshold in rule_candidates:\n",
    "    precision, recall = evaluate_rule(df, col, op, threshold)\n",
    "    # print(f\"Rule: {col} {op} {threshold:.2f} => Precision: {precision:.2f}, Recall: {recall:.2f}\")\n",
    "    if precision >= min_precision and recall >= min_recall:\n",
    "        accepted_rules.append((col, op, threshold, precision, recall))\n",
    "\n",
    "print(accepted_rules)"
   ]
  },
  {
   "cell_type": "code",
   "execution_count": 26,
   "id": "02df1834-7c8f-4d25-991c-7760d09c951d",
   "metadata": {},
   "outputs": [
    {
     "name": "stdout",
     "output_type": "stream",
     "text": [
      "Rule: mp<900 and fee>15000 → Precision: 0.21, Recall: 0.07, Count: 465\n",
      "Rule: mp<1000 and fee>20000 → Precision: 0.21, Recall: 0.07, Count: 438\n",
      "Rule: mp<1200 and fee>25000 → Precision: 0.20, Recall: 0.07, Count: 450\n"
     ]
    }
   ],
   "source": [
    "thresholds = [(900, 15000), (1000, 20000), (1200, 25000)]\n",
    "for mp, fee in thresholds:\n",
    "    sub = df[(df[\"membership_period\"] < mp) & (df[\"Fee Charged\"] > fee)]\n",
    "    if len(sub) == 0:\n",
    "        continue\n",
    "    p = sub[\"label\"].mean()\n",
    "    r = sub[\"label\"].sum() / df[\"label\"].sum()\n",
    "    print(f\"Rule: mp<{mp} and fee>{fee} → Precision: {p:.2f}, Recall: {r:.2f}, Count: {len(sub)}\")\n"
   ]
  },
  {
   "cell_type": "code",
   "execution_count": null,
   "id": "0da2010e-ff10-4e2c-95cb-d9573e6806d2",
   "metadata": {},
   "outputs": [],
   "source": []
  }
 ],
 "metadata": {
  "kernelspec": {
   "display_name": "Python 3 (ipykernel)",
   "language": "python",
   "name": "python3"
  },
  "language_info": {
   "codemirror_mode": {
    "name": "ipython",
    "version": 3
   },
   "file_extension": ".py",
   "mimetype": "text/x-python",
   "name": "python",
   "nbconvert_exporter": "python",
   "pygments_lexer": "ipython3",
   "version": "3.10.12"
  }
 },
 "nbformat": 4,
 "nbformat_minor": 5
}
