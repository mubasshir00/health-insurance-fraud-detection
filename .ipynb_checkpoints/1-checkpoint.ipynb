{
 "cells": [
  {
   "cell_type": "code",
   "execution_count": 1,
   "id": "80d555ec-9523-42c3-84dc-151b3e770fd0",
   "metadata": {},
   "outputs": [],
   "source": [
    "import pandas as pd\n",
    "import hashlib\n",
    "import os"
   ]
  },
  {
   "cell_type": "code",
   "execution_count": 5,
   "id": "fd09d2f5-ccb9-4f02-9a2b-12d1468f8e65",
   "metadata": {},
   "outputs": [],
   "source": [
    "# Function to hash the BeneID using SHA-256\n",
    "def generate_ac(beneficiary_id):\n",
    "    return hashlib.sha256(beneficiary_id.encode('utf-8')).hexdigest()\n",
    "\n",
    "# Paths to your original CSV files\n",
    "input_files = {\n",
    "    \"beneficiary\": \"/home/mubasshir/Desktop/Research/Insurance/Dataset/archive/Test_Beneficiarydata-1542969243754.csv\",\n",
    "    \"inpatient\": \"/home/mubasshir/Desktop/Research/Insurance/Dataset/archive/Test_Inpatientdata-1542969243754.csv\",\n",
    "    \"outpatient\": \"/home/mubasshir/Desktop/Research/Insurance/Dataset/archive/Test_Outpatientdata-1542969243754.csv\",\n",
    "}\n",
    "\n",
    "# Load datasets\n",
    "df_beneficiary = pd.read_csv(input_files[\"beneficiary\"])\n",
    "df_inpatient = pd.read_csv(input_files[\"inpatient\"])\n",
    "df_outpatient = pd.read_csv(input_files[\"outpatient\"])\n",
    "\n",
    "# Columns to anonymize\n",
    "bene_col = \"BeneID\"\n",
    "claim_col = \"ClaimID\"\n",
    "\n",
    "# Step 1: Create BeneID mapping\n",
    "all_bene_ids = pd.concat([\n",
    "    df_beneficiary[bene_col],\n",
    "    df_inpatient[bene_col],\n",
    "    df_outpatient[bene_col]\n",
    "]).drop_duplicates().astype(str)\n",
    "beneid_to_ac = {bid: generate_ac(bid) for bid in all_bene_ids}\n",
    "\n",
    "# Step 2: Create ClaimID mapping\n",
    "all_claim_ids = pd.concat([\n",
    "    df_inpatient[claim_col],\n",
    "    df_outpatient[claim_col]\n",
    "]).drop_duplicates().astype(str)\n",
    "claimid_to_ac = {cid: generate_ac(cid) for cid in all_claim_ids}\n",
    "\n",
    "# Step 3: Apply BeneID mapping\n",
    "df_beneficiary[bene_col] = df_beneficiary[bene_col].astype(str).map(beneid_to_ac)\n",
    "df_inpatient[bene_col] = df_inpatient[bene_col].astype(str).map(beneid_to_ac)\n",
    "df_outpatient[bene_col] = df_outpatient[bene_col].astype(str).map(beneid_to_ac)\n",
    "\n",
    "# Step 4: Apply ClaimID mapping\n",
    "df_inpatient[claim_col] = df_inpatient[claim_col].astype(str).map(claimid_to_ac)\n",
    "df_outpatient[claim_col] = df_outpatient[claim_col].astype(str).map(claimid_to_ac)\n",
    "\n",
    "# Step 5: Save anonymized files\n",
    "df_beneficiary.to_csv(\"Test_Anonymized_Train_Beneficiarydata.csv\", index=False)\n",
    "df_inpatient.to_csv(\"Test_Anonymized_Train_Inpatientdata.csv\", index=False)\n",
    "df_outpatient.to_csv(\"Test_Anonymized_Train_Outpatientdata.csv\", index=False)"
   ]
  },
  {
   "cell_type": "code",
   "execution_count": null,
   "id": "a96a0a05-0502-4465-bd33-cf5210bd64b1",
   "metadata": {},
   "outputs": [],
   "source": []
  }
 ],
 "metadata": {
  "kernelspec": {
   "display_name": "Python 3 (ipykernel)",
   "language": "python",
   "name": "python3"
  },
  "language_info": {
   "codemirror_mode": {
    "name": "ipython",
    "version": 3
   },
   "file_extension": ".py",
   "mimetype": "text/x-python",
   "name": "python",
   "nbconvert_exporter": "python",
   "pygments_lexer": "ipython3",
   "version": "3.10.12"
  }
 },
 "nbformat": 4,
 "nbformat_minor": 5
}
