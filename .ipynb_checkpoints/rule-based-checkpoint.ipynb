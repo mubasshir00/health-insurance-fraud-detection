{
 "cells": [
  {
   "cell_type": "code",
   "execution_count": 43,
   "id": "6e63f515-a912-4ff2-8f0b-e2cd88a526be",
   "metadata": {},
   "outputs": [],
   "source": [
    "import pandas as pd"
   ]
  },
  {
   "cell_type": "code",
   "execution_count": 44,
   "id": "6403e337-50cf-41b6-a506-66f3b8422978",
   "metadata": {},
   "outputs": [],
   "source": [
    "# Load the datasets into DataFrames\n",
    "main_claim_df = pd.read_csv(\"/home/mubasshir/Desktop/Research/Insurance/Dataset/archive/Test-1542969243754.csv\")\n",
    "beneficiary_df = pd.read_csv(\"/home/mubasshir/Desktop/Research/Insurance/Dataset/archive/Test_Beneficiarydata-1542969243754.csv\")\n",
    "inpatient_df = pd.read_csv(\"/home/mubasshir/Desktop/Research/Insurance/Dataset/archive/Test_Inpatientdata-1542969243754.csv\")\n",
    "outpatient_df = pd.read_csv(\"/home/mubasshir/Desktop/Research/Insurance/Dataset/archive/Test_Outpatientdata-1542969243754.csv\")\n",
    "\n",
    "# Load Test Datasets\n",
    "# test_main = pd.read_csv(\"/home/mubasshir/Desktop/Research/Insurance/Dataset/archive/Test-1542969243754.csv\")\n",
    "# test_beneficiary = pd.read_csv(\"/home/mubasshir/Desktop/Research/Insurance/Dataset/archive/Test_Beneficiarydata-1542969243754.csv\")\n",
    "# test_inpatient = pd.read_csv(\"/home/mubasshir/Desktop/Research/Insurance/Dataset/archive/Test_Inpatientdata-1542969243754.csv\")\n",
    "# test_outpatient = pd.read_csv(\"/home/mubasshir/Desktop/Research/Insurance/Dataset/archive/Test_Outpatientdata-1542969243754.csv\")"
   ]
  },
  {
   "cell_type": "code",
   "execution_count": 45,
   "id": "9a0d45db-2fa0-4c4c-ae5a-522cc4a5c2e5",
   "metadata": {},
   "outputs": [],
   "source": [
    "# Merge datasets\n",
    "merged_df = inpatient_df.merge(beneficiary_df, on='BeneID', how='left')\n",
    "merged_df = merged_df.merge(main_claim_df, on='Provider', how='left')"
   ]
  },
  {
   "cell_type": "code",
   "execution_count": 46,
   "id": "34fa4e60-3966-4b31-a59e-0e013bbd622d",
   "metadata": {},
   "outputs": [],
   "source": [
    "# Prepare required inputs\n",
    "patient_records = [{\"Patient_ID\": row[\"BeneID\"], \"Service_Token\": row[\"ClaimID\"]} for _, row in merged_df.iterrows()]\n",
    "service_records = patient_records.copy()"
   ]
  },
  {
   "cell_type": "code",
   "execution_count": 47,
   "id": "08ac863b-da2f-4e24-8d72-d36779fadcc8",
   "metadata": {},
   "outputs": [],
   "source": [
    "# Extract billing codes\n",
    "diagnosis_cols = [col for col in merged_df.columns if \"ClmDiagnosisCode\" in col]\n",
    "billing_codes_master = pd.unique(merged_df[diagnosis_cols].values.ravel())\n",
    "billing_codes_master = [code for code in billing_codes_master if pd.notna(code)]\n"
   ]
  },
  {
   "cell_type": "code",
   "execution_count": 48,
   "id": "96a1afe1-f09d-4e96-b491-eecf6900e6a0",
   "metadata": {},
   "outputs": [],
   "source": [
    "# Set fixed insurance policy\n",
    "insurance_policy = {\"Max_Coverage\": 50000}"
   ]
  },
  {
   "cell_type": "code",
   "execution_count": 49,
   "id": "52eeefd2-032b-47a6-b080-e0ef36a94be2",
   "metadata": {},
   "outputs": [],
   "source": [
    "# Define the rule-based fraud detection function\n",
    "def strict_algorithm_fraud_check(\n",
    "    patient_id, service_token, claim_record,\n",
    "    patient_records, service_records,\n",
    "    billing_codes_master, insurance_policy\n",
    "):\n",
    "    ac = f\"{patient_id}_{service_token}\"\n",
    "\n",
    "    # Rule 1: False Identity\n",
    "    valid_prs = {f\"{pr['Patient_ID']}_{pr['Service_Token']}\" for pr in patient_records}\n",
    "    if ac not in valid_prs:\n",
    "        return \"Fraud: False Identity or Misrepresentation of Identity\", 1\n",
    "\n",
    "    # Rule 2: Invalid Service Record\n",
    "    valid_srs = {f\"{sr['Patient_ID']}_{sr['Service_Token']}\" for sr in service_records}\n",
    "    if ac not in valid_srs:\n",
    "        return \"Fraud: Invalid Service Record (Billing for Unprovided Services)\", 1\n",
    "\n",
    "    # Rule 3: Multiple Claims\n",
    "    if claim_record.get(\"Insurance_ID\") is not None:\n",
    "        return \"Fraud: Multiple Claims Detected\", 1\n",
    "\n",
    "    # Rule 4: Fake Billing Code\n",
    "    claim_codes = claim_record.get(\"Billing_Codes\", [])\n",
    "    if not all(code in billing_codes_master for code in claim_codes):\n",
    "        return \"Fraud: Fake Billing Code\", 1\n",
    "    else:\n",
    "        # Rule 5: Inflated Claims\n",
    "        expected_bill = 1000 * len(claim_codes)\n",
    "        billed_amount = claim_record.get(\"Billed_Amount\", 0)\n",
    "        if billed_amount > expected_bill * 1.5:\n",
    "            return \"Fraud: Inflated Claims Detected\", 1\n",
    "\n",
    "    # Rule 6: Misrepresentation of Coverage\n",
    "    if claim_record.get(\"Billed_Amount\", 0) > insurance_policy.get(\"Max_Coverage\", float('inf')):\n",
    "        return \"Fraud: Misrepresentation of Coverage\", 1\n",
    "\n",
    "    # Rule 7: Underpayment Check\n",
    "    paid_amount = claim_record.get(\"Paid_Amount\")\n",
    "    if paid_amount is not None and paid_amount > 0:\n",
    "        return \"Fraud: Underpayment Detected\", 1\n",
    "\n",
    "    # All checks passed — Valid claim\n",
    "    return \"Insurance Claim is Valid\", 0"
   ]
  },
  {
   "cell_type": "code",
   "execution_count": null,
   "id": "2d51527a-8476-42c6-9bfb-6d9e21a57e46",
   "metadata": {},
   "outputs": [],
   "source": [
    "results = []\n",
    "for _, row in merged_df.iterrows():\n",
    "    patient_id = row[\"BeneID\"]\n",
    "    service_token = row[\"ClaimID\"]\n",
    "    Provider = row['Provider']\n",
    "    billing_codes = [row[col] for col in diagnosis_cols if pd.notna(row[col])]\n",
    "\n",
    "    claim_record = {\n",
    "        \"Insurance_ID\": None,  # Simulating no duplicate\n",
    "        \"Billing_Codes\": billing_codes,\n",
    "        \"Billed_Amount\": row[\"InscClaimAmtReimbursed\"],\n",
    "        \"Paid_Amount\": None,\n",
    "        \"Provider\": row[\"Provider\"]\n",
    "    }\n",
    "\n",
    "    reason ,label = strict_algorithm_fraud_check(\n",
    "        patient_id, service_token, claim_record,\n",
    "        patient_records, service_records,\n",
    "        billing_codes_master, insurance_policy\n",
    "    )\n",
    "\n",
    "    results.append({\n",
    "        \"Provider\" : Provider,\n",
    "        \"BeneID\": patient_id,\n",
    "        \"ClaimID\": service_token,\n",
    "        \"Provider\": row[\"Provider\"],\n",
    "        \"Billed_Amount\": row[\"InscClaimAmtReimbursed\"],\n",
    "        \"Actual_PotentialFraud\": label,\n",
    "        \"Detected_Fraud_Reason\": reason\n",
    "    })\n",
    "\n",
    "# Save or display results\n",
    "results_df = pd.DataFrame(results)\n",
    "results_df.to_csv(\"Our_Algo.csv\", index=False)\n",
    "print(results_df.head())"
   ]
  },
  {
   "cell_type": "code",
   "execution_count": null,
   "id": "ab2b1a0b-4cb5-4611-aadf-54876f7f6d2d",
   "metadata": {},
   "outputs": [],
   "source": []
  }
 ],
 "metadata": {
  "kernelspec": {
   "display_name": "Python 3 (ipykernel)",
   "language": "python",
   "name": "python3"
  },
  "language_info": {
   "codemirror_mode": {
    "name": "ipython",
    "version": 3
   },
   "file_extension": ".py",
   "mimetype": "text/x-python",
   "name": "python",
   "nbconvert_exporter": "python",
   "pygments_lexer": "ipython3",
   "version": "3.10.12"
  }
 },
 "nbformat": 4,
 "nbformat_minor": 5
}
