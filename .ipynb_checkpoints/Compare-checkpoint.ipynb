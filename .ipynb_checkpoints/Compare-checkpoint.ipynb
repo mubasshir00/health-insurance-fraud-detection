{
 "cells": [
  {
   "cell_type": "code",
   "execution_count": 32,
   "id": "db6da9be-597e-4db4-a4d5-51080ba29684",
   "metadata": {},
   "outputs": [],
   "source": [
    "import pandas as pd"
   ]
  },
  {
   "cell_type": "code",
   "execution_count": 33,
   "id": "d2446039-4e12-487d-88c8-d0615c565a9a",
   "metadata": {},
   "outputs": [],
   "source": [
    "# Load CSVs\n",
    "algo_df = pd.read_csv(\"/home/mubasshir/Desktop/Research/Insurance/health-insurance-fraud-detection/Our_Algo.csv\")\n",
    "ml_df_rf = pd.read_csv(\"/home/mubasshir/Desktop/Research/Insurance/health-insurance-fraud-detection/RF_res.csv\")"
   ]
  },
  {
   "cell_type": "code",
   "execution_count": 34,
   "id": "67768feb-9295-4b90-b639-e04b1c16f1bb",
   "metadata": {},
   "outputs": [
    {
     "name": "stdout",
     "output_type": "stream",
     "text": [
      "   Provider     BeneID   ClaimID  Billed_Amount  Actual_PotentialFraud  \\\n",
      "0  PRV57070  BENE11014  CLM67387           9000                      0   \n",
      "1  PRV54750  BENE11017  CLM31237          14000                      1   \n",
      "2  PRV53758  BENE11026  CLM78930           2000                      0   \n",
      "3  PRV55825  BENE11031  CLM56810          16000                      1   \n",
      "4  PRV52338  BENE11085  CLM34625          19000                      1   \n",
      "\n",
      "             Detected_Fraud_Reason  \n",
      "0         Insurance Claim is Valid  \n",
      "1  Fraud: Inflated Claims Detected  \n",
      "2         Insurance Claim is Valid  \n",
      "3  Fraud: Inflated Claims Detected  \n",
      "4  Fraud: Inflated Claims Detected  \n"
     ]
    }
   ],
   "source": [
    "#  Rename for consistency if needed\n",
    "# algo_df.rename(columns={\"Detected_Fraud_Reason\": \"Reason\"})\n",
    "print(algo_df.head())"
   ]
  },
  {
   "cell_type": "code",
   "execution_count": 36,
   "id": "8baaeff9-b97e-41d8-bc1c-2008fd2bb111",
   "metadata": {},
   "outputs": [
    {
     "name": "stdout",
     "output_type": "stream",
     "text": [
      " Saved: Provider_Claim_Fraud_Comparison.csv\n",
      "   Provider    ClaimID  Fraud_Label  PredictedFraud_RF  Difference\n",
      "0  PRV51002  CLM115820            0                  1           1\n",
      "1  PRV51002  CLM120796            0                  1           1\n",
      "2  PRV51002  CLM128482            0                  0           0\n",
      "3  PRV51002  CLM129901            0                  0           0\n",
      "4  PRV51002  CLM135690            0                  1           1\n",
      "5  PRV51002  CLM138468            0                  0           0\n",
      "6  PRV51002  CLM139832            0                  0           0\n",
      "7  PRV51002  CLM142944            0                  0           0\n",
      "8  PRV51002  CLM142956            0                  0           0\n",
      "9  PRV51002  CLM144423            0                  1           1\n"
     ]
    }
   ],
   "source": [
    "# Step 1: Convert Reason to binary fraud label (1 = fraud, 0 = valid)\n",
    "algo_df[\"Fraud_Label\"] = algo_df[\"Actual_PotentialFraud\"].apply(lambda x: 0 if \"Valid\" in str(x) else 1)\n",
    "\n",
    "# Step 2: Merge both datasets on Provider + ClaimID\n",
    "merged_df = pd.merge(\n",
    "    algo_df[[\"Provider\", \"ClaimID\", \"Fraud_Label\"]],\n",
    "    ml_df_rf[[\"Provider\", \"ClaimID\", \"PredictedFraud_RF\"]],\n",
    "    on=[\"Provider\", \"ClaimID\"],\n",
    "    how=\"outer\"\n",
    ").fillna(0)\n",
    "\n",
    "# Step 3: Cast types and compute difference\n",
    "merged_df[\"Fraud_Label\"] = merged_df[\"Fraud_Label\"].astype(int)\n",
    "# merged_df[\"Reason\"] = merged_df[\"Detected_Fraud_Reason\"]\n",
    "merged_df[\"PredictedFraud_RF\"] = merged_df[\"PredictedFraud_RF\"].astype(int)\n",
    "merged_df[\"Difference\"] = merged_df[\"PredictedFraud_RF\"] - merged_df[\"Fraud_Label\"]\n",
    "\n",
    "# Step 4: Save and preview\n",
    "merged_df.to_csv(\"Comparison.csv\", index=False)\n",
    "print(\" Saved: Provider_Claim_Fraud_Comparison.csv\")\n",
    "print(merged_df.head(10))"
   ]
  },
  {
   "cell_type": "code",
   "execution_count": null,
   "id": "ecd81793-48ac-4f51-af9f-908fd80fc5d2",
   "metadata": {},
   "outputs": [],
   "source": [
    "comparison_df = pd.read_csv(\"/home/mubasshir/Desktop/Research/Insurance/health-insurance-fraud-detection/Comparison.csv\")\n",
    "\n",
    "\n",
    "def highlight_fraud(row):\n",
    "    return ['background-color: red' if row['Fraud_Label'] == 1 else '' for _ in row]\n",
    "\n",
    "# Apply the style and display\n",
    "styled_df = comparison_df.style.apply(highlight_fraud, axis=1)\n",
    "styled_df\n",
    "\n",
    "from pandas.io.formats.style import Styler\n",
    "\n",
    "styled_df.to_excel(\"Comparison_Styled.xlsx\", engine='openpyxl', index=False)"
   ]
  },
  {
   "cell_type": "code",
   "execution_count": null,
   "id": "d3eacf54-55a9-48dc-a128-ca9a9693d364",
   "metadata": {},
   "outputs": [],
   "source": []
  }
 ],
 "metadata": {
  "kernelspec": {
   "display_name": "Python 3 (ipykernel)",
   "language": "python",
   "name": "python3"
  },
  "language_info": {
   "codemirror_mode": {
    "name": "ipython",
    "version": 3
   },
   "file_extension": ".py",
   "mimetype": "text/x-python",
   "name": "python",
   "nbconvert_exporter": "python",
   "pygments_lexer": "ipython3",
   "version": "3.10.12"
  }
 },
 "nbformat": 4,
 "nbformat_minor": 5
}
